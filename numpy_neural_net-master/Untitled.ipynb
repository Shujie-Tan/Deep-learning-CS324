{
 "cells": [
  {
   "cell_type": "code",
   "execution_count": null,
   "metadata": {},
   "outputs": [],
   "source": [
    "from __future__ import print_function\n",
    "import numpy as np \n",
    "import math\n",
    "from sklearn import datasets\n",
    "\n",
    "\n",
    "def relu(X):\n",
    "\treturn np.maximum(X, 0)\n",
    "\n",
    "def relu_derivative(X):\n",
    "\treturn 1. * (X > 0)\n",
    "\n",
    "def build_model(X,hidden_nodes,output_dim=2):\n",
    "    model = {}\n",
    "    input_dim = X.shape[1]\n",
    "    model['W1'] = np.random.randn(input_dim, hidden_nodes) / np.sqrt(input_dim)\n",
    "    model['b1'] = np.zeros((1, hidden_nodes))\n",
    "    model['W2'] = np.random.randn(hidden_nodes, output_dim) / np.sqrt(hidden_nodes)\n",
    "    model['b2'] = np.zeros((1, output_dim))\n",
    "    return model\n",
    "\n",
    "def feed_forward(model, x):\n",
    "    W1, b1, W2, b2 = model['W1'], model['b1'], model['W2'], model['b2']\n",
    "    # Forward propagation\n",
    "    z1 = x.dot(W1) + b1\n",
    "    #a1 = np.tanh(z1)\n",
    "    a1 = relu(z1)\n",
    "    z2 = a1.dot(W2) + b2\n",
    "    exp_scores = np.exp(z2)\n",
    "    out = exp_scores / np.sum(exp_scores, axis=1, keepdims=True)\n",
    "    return z1, a1, z2, out\n",
    "\n",
    "def calculate_loss(model,X,y,reg_lambda):\n",
    "    num_examples = X.shape[0]\n",
    "    W1, b1, W2, b2 = model['W1'], model['b1'], model['W2'], model['b2']\n",
    "    # Forward propagation to calculate our predictions\n",
    "    z1, a1, z2, out = feed_forward(model, X)\n",
    "    probs = out / np.sum(out, axis=1, keepdims=True)\n",
    "    # Calculating the loss\n",
    "    corect_logprobs = -np.log(probs[range(num_examples), y])\n",
    "    loss = np.sum(corect_logprobs)\n",
    "    # Add regulatization term to loss (optional)\n",
    "    loss += reg_lambda/2 * (np.sum(np.square(W1)) + np.sum(np.square(W2)))\n",
    "    return 1./num_examples * loss\n",
    "\n",
    "def backprop(X,y,model,z1,a1,z2,output,reg_lambda):\n",
    "    delta3 = output\n",
    "    delta3[range(X.shape[0]), y] -= 1  #yhat - y\n",
    "    dW2 = (a1.T).dot(delta3)\n",
    "    db2 = np.sum(delta3, axis=0, keepdims=True)\n",
    "    #delta2 = delta3.dot(model['W2'].T) * (1 - np.power(a1, 2)) #if tanh\n",
    "    delta2 = delta3.dot(model['W2'].T) * relu_derivative(a1) #if ReLU\n",
    "    dW1 = np.dot(X.T, delta2)\n",
    "    db1 = np.sum(delta2, axis=0)\n",
    "    # Add regularization terms\n",
    "    dW2 += reg_lambda * model['W2']\n",
    "    dW1 += reg_lambda * model['W1']\n",
    "    return dW1, dW2, db1, db2\n",
    "\n",
    "\n",
    "def train(model, X, y, num_passes=10000, reg_lambda = .1, learning_rate=0.1):\n",
    "    # Batch gradient descent\n",
    "    done = False\n",
    "    previous_loss = float('inf')\n",
    "    i = 0\n",
    "    losses = []\n",
    "    while done == False:  #comment out while performance testing\n",
    "    #while i < 1500:\n",
    "    \t#feed forward\n",
    "        z1,a1,z2,output = feed_forward(model, X)\n",
    "        #backpropagation\n",
    "        dW1, dW2, db1, db2 = backprop(X,y,model,z1,a1,z2,output,reg_lambda)\n",
    "        #update weights and biases\n",
    "        model['W1'] -= learning_rate * dW1\n",
    "        model['b1'] -= learning_rate * db1\n",
    "        model['W2'] -= learning_rate * dW2\n",
    "        model['b2'] -= learning_rate * db2\n",
    "        if i % 1000 == 0:\n",
    "        \tloss = calculate_loss(model, X, y, reg_lambda)\n",
    "        \tlosses.append(loss)\n",
    "        \tprint(\"Loss after iteration %i: %f\" %(i, loss)  ) #uncomment once testing finished, return mod val to 1000\n",
    "        \tif (previous_loss-loss)/previous_loss < 0.01:\n",
    "        \t\tdone = True\n",
    "        \t\t#print i\n",
    "        \tprevious_loss = loss\n",
    "        i += 1\n",
    "    return model, losses"
   ]
  },
  {
   "cell_type": "code",
   "execution_count": 7,
   "metadata": {},
   "outputs": [],
   "source": [
    "X, y = datasets.make_moons(16, noise=0.10)"
   ]
  },
  {
   "cell_type": "code",
   "execution_count": 12,
   "metadata": {},
   "outputs": [],
   "source": [
    "admitted = X[y==1]\n",
    "not_admitted = X[y==0]"
   ]
  },
  {
   "cell_type": "code",
   "execution_count": 9,
   "metadata": {},
   "outputs": [],
   "source": [
    "import matplotlib.pyplot as plt"
   ]
  },
  {
   "cell_type": "code",
   "execution_count": 13,
   "metadata": {},
   "outputs": [
    {
     "data": {
      "image/png": "[encoded data removed]",
      "text/plain": [
       "<Figure size 432x288 with 1 Axes>"
      ]
     },
     "metadata": {
      "needs_background": "light"
     },
     "output_type": "display_data"
    }
   ],
   "source": [
    "plt.scatter(admitted[:,0], admitted[:,1], s=10, label=\"Admitted\")\n",
    "plt.scatter(not_admitted[:,0], not_admitted[:,1], s=10, label=\"Not_Admitted\")\n",
    "plt.legend()\n",
    "plt.show()"
   ]
  },
  {
   "cell_type": "code",
   "execution_count": 14,
   "metadata": {},
   "outputs": [],
   "source": [
    "num_examples = len(X) # training set size\n",
    "nn_input_dim = 2 # input layer dimensionality\n",
    "nn_output_dim = 2 # output layer dimensionality \n",
    "learning_rate = 0.01 # learning rate for gradient descent\n",
    "reg_lambda = 0.01 # regularization strength"
   ]
  },
  {
   "cell_type": "code",
   "execution_count": 15,
   "metadata": {},
   "outputs": [],
   "source": [
    "model = build_model(X,20,2)"
   ]
  },
  {
   "cell_type": "code",
   "execution_count": 16,
   "metadata": {
    "collapsed": true
   },
   "outputs": [
    {
     "data": {
      "text/plain": [
       "{'W1': array([[-0.41275285, -0.7906758 , -0.02301316,  0.25624831,  0.95874472,\n",
       "          0.21413001, -0.5416841 , -0.24465723,  0.80455572,  0.04007944,\n",
       "         -1.08643174, -0.2792233 ,  0.97261482,  0.46282486,  0.32043362,\n",
       "          0.59597028,  0.48234088, -0.01138795, -0.07279107, -0.23359306],\n",
       "        [-0.44049624, -0.07539231, -0.4476043 ,  0.10529877,  0.38517169,\n",
       "          0.17726684,  0.6458172 , -0.67755172,  0.24170746, -0.31811499,\n",
       "         -0.01650843,  0.75952548,  0.44681859, -0.39181786, -0.22457018,\n",
       "          0.31434903, -1.07893014, -0.13886313,  0.98781289,  0.23014603]]),\n",
       " 'b1': array([[0., 0., 0., 0., 0., 0., 0., 0., 0., 0., 0., 0., 0., 0., 0., 0.,\n",
       "         0., 0., 0., 0.]]),\n",
       " 'W2': array([[ 0.09742775,  0.33437412],\n",
       "        [ 0.20551091, -0.16771804],\n",
       "        [-0.0388078 , -0.15019175],\n",
       "        [-0.06421863,  0.03269642],\n",
       "        [-0.24397172,  0.15379373],\n",
       "        [-0.1286809 , -0.23512731],\n",
       "        [ 0.0984256 , -0.15758291],\n",
       "        [-0.22934547,  0.09231076],\n",
       "        [ 0.01012858, -0.19788826],\n",
       "        [ 0.03552222,  0.01787429],\n",
       "        [-0.2129764 ,  0.15274792],\n",
       "        [-0.03381932, -0.46017634],\n",
       "        [ 0.09985636,  0.07177711],\n",
       "        [ 0.02261525, -0.22454065],\n",
       "        [ 0.65284101,  0.09488578],\n",
       "        [ 0.02853495,  0.00822302],\n",
       "        [-0.13974362,  0.26765265],\n",
       "        [ 0.10320881,  0.20814586],\n",
       "        [ 0.05160954, -0.12600595],\n",
       "        [-0.48586814,  0.06571224]]),\n",
       " 'b2': array([[0., 0.]])}"
      ]
     },
     "execution_count": 16,
     "metadata": {},
     "output_type": "execute_result"
    }
   ],
   "source": [
    "model"
   ]
  },
  {
   "cell_type": "code",
   "execution_count": 17,
   "metadata": {},
   "outputs": [
    {
     "name": "stdout",
     "output_type": "stream",
     "text": [
      "Loss after iteration 0: 0.592520\n",
      "Loss after iteration 1000: 0.054870\n",
      "Loss after iteration 2000: 0.037632\n"
     ]
    },
    {
     "name": "stderr",
     "output_type": "stream",
     "text": [
      "D:\\Users\\atans\\Anaconda3\\lib\\site-packages\\ipykernel_launcher.py:82: RuntimeWarning: invalid value encountered in double_scalars\n"
     ]
    },
    {
     "name": "stdout",
     "output_type": "stream",
     "text": [
      "Loss after iteration 3000: 0.035940\n",
      "Loss after iteration 4000: 0.035488\n",
      "Loss after iteration 5000: 0.035256\n"
     ]
    }
   ],
   "source": [
    "model, losses = train(model,X, y, reg_lambda=reg_lambda, learning_rate=learning_rate)"
   ]
  },
  {
   "cell_type": "code",
   "execution_count": 5,
   "metadata": {},
   "outputs": [],
   "source": [
    "output = feed_forward(model, X)\n",
    "preds = np.argmax(output[3], axis=1)"
   ]
  },
  {
   "cell_type": "code",
   "execution_count": null,
   "metadata": {},
   "outputs": [],
   "source": []
  }
 ],
 "metadata": {
  "kernelspec": {
   "display_name": "Python 3",
   "language": "python",
   "name": "python3"
  },
  "language_info": {
   "codemirror_mode": {
    "name": "ipython",
    "version": 3
   },
   "file_extension": ".py",
   "mimetype": "text/x-python",
   "name": "python",
   "nbconvert_exporter": "python",
   "pygments_lexer": "ipython3",
   "version": "3.7.1"
  }
 },
 "nbformat": 4,
 "nbformat_minor": 2
}
